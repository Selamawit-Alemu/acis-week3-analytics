{
 "cells": [
  {
   "cell_type": "code",
   "execution_count": 4,
   "id": "0dd080be-4262-480f-a6a8-15efa583df2d",
   "metadata": {},
   "outputs": [
    {
     "name": "stdout",
     "output_type": "stream",
     "text": [
      "Bank                        14.594670\n",
      "AccountType                  4.022806\n",
      "MaritalStatus                0.825819\n",
      "Gender                       0.953507\n",
      "mmcode                       0.055195\n",
      "VehicleType                  0.055195\n",
      "make                         0.055195\n",
      "Model                        0.055195\n",
      "Cylinders                    0.055195\n",
      "cubiccapacity                0.055195\n",
      "kilowatts                    0.055195\n",
      "bodytype                     0.055195\n",
      "NumberOfDoors                0.055195\n",
      "VehicleIntroDate             0.055195\n",
      "CustomValueEstimate         77.956560\n",
      "CapitalOutstanding           0.000200\n",
      "NewVehicle                  15.327998\n",
      "WrittenOff                  64.183810\n",
      "Rebuilt                     64.183810\n",
      "Converted                   64.183810\n",
      "CrossBorder                 99.930207\n",
      "NumberOfVehiclesInFleet    100.000000\n",
      "dtype: float64\n"
     ]
    }
   ],
   "source": [
    "import pandas as pd\n",
    "\n",
    "file_path = \"../data/MachineLearningRating_v3.txt\"\n",
    "\n",
    "# Load the file using the pipe delimiter\n",
    "df = pd.read_csv(file_path, delimiter=\"|\",low_memory=False)\n",
    "missing = df.isnull().sum()\n",
    "missing_percent = (missing / len(df)) * 100\n",
    "print(missing_percent[missing_percent > 0])\n"
   ]
  },
  {
   "cell_type": "code",
   "execution_count": 5,
   "id": "8eb5cea0-3537-4ae7-820c-aa711d6510c9",
   "metadata": {},
   "outputs": [],
   "source": [
    "missing_percent = df.isnull().mean() * 100  # % missing per column\n",
    "\n",
    "# Columns to drop\n",
    "cols_to_drop = missing_percent[missing_percent > 30].index.tolist()\n",
    "\n",
    "# Columns to impute\n",
    "cols_to_impute = missing_percent[(missing_percent > 0) & (missing_percent <= 30)].index.tolist()\n"
   ]
  },
  {
   "cell_type": "code",
   "execution_count": 6,
   "id": "301d82b7-1c29-4c64-afe5-396725b7678f",
   "metadata": {},
   "outputs": [],
   "source": [
    "df = df.drop(columns=cols_to_drop)\n"
   ]
  },
  {
   "cell_type": "code",
   "execution_count": 7,
   "id": "555695f0-764d-49c2-b79e-531868af9e5a",
   "metadata": {},
   "outputs": [],
   "source": [
    "from sklearn.impute import SimpleImputer\n",
    "\n",
    "num_cols = df[cols_to_impute].select_dtypes(include=['number']).columns.tolist()\n",
    "cat_cols = df[cols_to_impute].select_dtypes(exclude=['number']).columns.tolist()\n",
    "\n",
    "# Numerical imputer (mean or median)\n",
    "num_imputer = SimpleImputer(strategy='median')\n",
    "df[num_cols] = num_imputer.fit_transform(df[num_cols])\n",
    "\n",
    "# Categorical imputer (mode)\n",
    "cat_imputer = SimpleImputer(strategy='most_frequent')\n",
    "df[cat_cols] = cat_imputer.fit_transform(df[cat_cols])\n"
   ]
  },
  {
   "cell_type": "code",
   "execution_count": 8,
   "id": "5dd959a0-4e7a-4371-bc29-43b691a97e7e",
   "metadata": {},
   "outputs": [
    {
     "name": "stdout",
     "output_type": "stream",
     "text": [
      "Bank                  0\n",
      "AccountType           0\n",
      "MaritalStatus         0\n",
      "Gender                0\n",
      "mmcode                0\n",
      "VehicleType           0\n",
      "make                  0\n",
      "Model                 0\n",
      "Cylinders             0\n",
      "cubiccapacity         0\n",
      "kilowatts             0\n",
      "bodytype              0\n",
      "NumberOfDoors         0\n",
      "VehicleIntroDate      0\n",
      "CapitalOutstanding    0\n",
      "NewVehicle            0\n",
      "dtype: int64\n"
     ]
    }
   ],
   "source": [
    "print(df[cols_to_impute].isnull().sum())\n"
   ]
  },
  {
   "cell_type": "code",
   "execution_count": 9,
   "id": "b53a909a-6c9d-43e3-bedd-945edb7ffe2f",
   "metadata": {},
   "outputs": [
    {
     "name": "stdout",
     "output_type": "stream",
     "text": [
      "0\n"
     ]
    }
   ],
   "source": [
    "print(df.isnull().sum().sum())  # Should be zero\n"
   ]
  },
  {
   "cell_type": "code",
   "execution_count": 11,
   "id": "b13acfbc-c75c-410b-896b-0618cf60cc44",
   "metadata": {},
   "outputs": [],
   "source": [
    "df.to_csv(\"../data/cleaned_data.csv\", index=False)"
   ]
  },
  {
   "cell_type": "code",
   "execution_count": null,
   "id": "30f55e25-a99a-425b-81aa-d2f9dcdb0e0a",
   "metadata": {},
   "outputs": [],
   "source": []
  }
 ],
 "metadata": {
  "kernelspec": {
   "display_name": "Python 3 (ipykernel)",
   "language": "python",
   "name": "python3"
  },
  "language_info": {
   "codemirror_mode": {
    "name": "ipython",
    "version": 3
   },
   "file_extension": ".py",
   "mimetype": "text/x-python",
   "name": "python",
   "nbconvert_exporter": "python",
   "pygments_lexer": "ipython3",
   "version": "3.12.0"
  }
 },
 "nbformat": 4,
 "nbformat_minor": 5
}
